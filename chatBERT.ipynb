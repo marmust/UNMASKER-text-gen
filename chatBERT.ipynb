{
 "cells": [
  {
   "cell_type": "code",
   "execution_count": 1,
   "metadata": {},
   "outputs": [
    {
     "name": "stderr",
     "output_type": "stream",
     "text": [
      "c:\\Users\\user\\anaconda3\\envs\\MAIN_ENV\\lib\\site-packages\\tqdm\\auto.py:21: TqdmWarning: IProgress not found. Please update jupyter and ipywidgets. See https://ipywidgets.readthedocs.io/en/stable/user_install.html\n",
      "  from .autonotebook import tqdm as notebook_tqdm\n"
     ]
    }
   ],
   "source": [
    "from transformers import pipeline\n",
    "from tqdm import tqdm\n",
    "import random\n",
    "import time"
   ]
  },
  {
   "cell_type": "code",
   "execution_count": 2,
   "metadata": {},
   "outputs": [],
   "source": [
    "unmasker = pipeline('fill-mask', model='xlm-roberta-large', device=0)\n",
    "mask_token = \"<mask>\"\n",
    "path_to_words_file = r\"C:\\Users\\user\\Desktop\\AUTOENCODER\\allwords.txt\""
   ]
  },
  {
   "cell_type": "code",
   "execution_count": 11,
   "metadata": {},
   "outputs": [],
   "source": [
    "def generate_words(length):\n",
    "    text = []\n",
    "    \n",
    "    with open(path_to_words_file) as file:\n",
    "        words = file.read().split(\"\\n\")\n",
    "    \n",
    "    for x in range(length):\n",
    "        text.append(words[random.randint(0, len(words) - 1)])\n",
    "    \n",
    "    return text"
   ]
  },
  {
   "cell_type": "code",
   "execution_count": 4,
   "metadata": {},
   "outputs": [],
   "source": [
    "def get_skip_val(length):\n",
    "    crnt_check = 1\n",
    "    \n",
    "    if length == 1:\n",
    "        return 0\n",
    "    \n",
    "    while True:\n",
    "        crnt_check += 1\n",
    "        \n",
    "        if crnt_check % length != 0 and length % crnt_check != 0:\n",
    "            return crnt_check"
   ]
  },
  {
   "cell_type": "code",
   "execution_count": 22,
   "metadata": {},
   "outputs": [],
   "source": [
    "def unmask_word_by_idx(topic_start, topic_end, completion, idx):\n",
    "    completion  = completion.copy()\n",
    "    completion[idx] = mask_token\n",
    "    completion = \" \".join(completion)\n",
    "     \n",
    "    prompt = f\"{topic_start} {completion} {topic_end}\"\n",
    "    \n",
    "    if topic_end == \"\":\n",
    "        completion = unmasker(prompt)[0][\"sequence\"][len(topic_start):].split(\" \")\n",
    "    else:\n",
    "        completion = unmasker(prompt)[0][\"sequence\"][len(topic_start):][:-len(topic_end)].split(\" \")\n",
    "    \n",
    "    return completion"
   ]
  },
  {
   "cell_type": "code",
   "execution_count": 6,
   "metadata": {},
   "outputs": [],
   "source": [
    "def add_length(topic_start, topic_end, completion):\n",
    "    save = completion.copy()\n",
    "    \n",
    "    for x in range(len(completion)):\n",
    "        completion = save.copy()\n",
    "        start_length = len(completion) + 1\n",
    "        insert_idx = x\n",
    "        completion.insert(insert_idx, \"\")\n",
    "        completion = unmask_word_by_idx(topic_start, topic_end, completion, insert_idx)\n",
    "        \n",
    "        if len(completion) > start_length:\n",
    "            return completion\n",
    "    \n",
    "    return save + generate_words(1)"
   ]
  },
  {
   "cell_type": "code",
   "execution_count": 7,
   "metadata": {},
   "outputs": [],
   "source": [
    "def subtract_length(topic_start, topic_end, completion):\n",
    "    pop_idx = random.randint(0, len(completion) - 3)\n",
    "    \n",
    "    completion.pop(pop_idx)\n",
    "    completion = unmask_word_by_idx(topic_start, topic_end, completion, pop_idx - 1)\n",
    "    completion = unmask_word_by_idx(topic_start, topic_end, completion, pop_idx + 1)\n",
    "    \n",
    "    return completion"
   ]
  },
  {
   "cell_type": "code",
   "execution_count": 30,
   "metadata": {},
   "outputs": [],
   "source": [
    "def complete(topic_start, topic_end, length, edurations, length_controll=False, length_controll_range=5):\n",
    "    completion = generate_words(length)\n",
    "    \n",
    "    with tqdm(total=edurations) as pbar:  # Use tqdm as a context manager\n",
    "        for x in range(edurations):\n",
    "            updated_length = len(completion)\n",
    "            skip = get_skip_val(updated_length)\n",
    "            current_word = (x * skip) % updated_length - 1\n",
    "            \n",
    "            if length_controll:\n",
    "                if updated_length < length - length_controll_range:\n",
    "                    #print(\"underlength\")\n",
    "                    completion = add_length(topic_start, topic_end, completion)\n",
    "                    \n",
    "                if updated_length > length + length_controll_range:\n",
    "                    #print(\"overlength\")\n",
    "                    completion = subtract_length(topic_start, topic_end, completion)\n",
    "            \n",
    "            completion = unmask_word_by_idx(topic_start, topic_end, completion, current_word)\n",
    "            #print(completion)\n",
    "            #TEMP_ghost = [\"------\"] * updated_length\n",
    "            #TEMP_ghost[current_word] = mask_token\n",
    "            #print(TEMP_ghost)\n",
    "            \n",
    "            pbar.update(1)  # Update the tqdm progress bar\n",
    "    \n",
    "    pbar.close()  # Close the tqdm progress bar after the loop has finished\n",
    "    \n",
    "    return \" \".join(completion)"
   ]
  },
  {
   "cell_type": "code",
   "execution_count": null,
   "metadata": {},
   "outputs": [],
   "source": [
    "conversation = \"\"\n",
    "\n",
    "while True:\n",
    "    conversation += f\"\\nquestion: {input('ask: ')}\\nanswer:\"\n",
    "    conversation += complete(conversation, \"\", 6, 100)\n",
    "    print(conversation)"
   ]
  },
  {
   "cell_type": "code",
   "execution_count": null,
   "metadata": {},
   "outputs": [],
   "source": [
    "conversation = \"\"\"question: hi! whats your name?\n",
    "answer: my name is BERT.\n",
    "question: whats your favourite color?\n",
    "answer: blue.\n",
    "question: whats your favourite food?\n",
    "answer: my favourite food is pizza\"\"\"\n",
    "\n",
    "while True:\n",
    "    conversation += f\"\\nquestion: {input('ask: ')}\\nanswer:\"\n",
    "    conversation += complete(conversation, \".\", 10, 100)\n",
    "    print(conversation)"
   ]
  },
  {
   "cell_type": "code",
   "execution_count": null,
   "metadata": {},
   "outputs": [],
   "source": [
    "you = [\"you said: \", \"you replied: \", \"you answered: \", \"i questioned: \", \"i mentioned: \"]\n",
    "i = [\"i said: \", \"i replied: \", \"i answered: \", \"i questioned: \", \"i mentioned: \"]\n",
    "\n",
    "conv_start = f\"\"\"{you[random.randint(0, len(you) - 1)]}hi\n",
    "{i[random.randint(0, len(i) - 1)]}hi how are you\n",
    "{you[random.randint(0, len(you) - 1)]}im good thanks, and you?\n",
    "{i[random.randint(0, len(i) - 1)]}im feeling alright overall.\"\"\"\n",
    "\n",
    "interaction = \"\"\n",
    "\n",
    "conv_end = f\"\"\"{you[random.randint(0, len(you) - 1)]}alright thanks for telling me!\n",
    "{i[random.randint(0, len(i) - 1)]}youre welcome.\n",
    "{you[random.randint(0, len(you) - 1)]}its been nice talking to you\n",
    "{i[random.randint(0, len(i) - 1)]}bye bye\"\"\"\n",
    "\n",
    "while True:\n",
    "    question = input(\"ASK QUESTION: \")\n",
    "    interaction += f\"you said: {question}\"\n",
    "    time.sleep(1)\n",
    "    print(f\"HUMAN: {question}\")\n",
    "    \n",
    "    interaction += f\"\\n{i[random.randint(0, len(i) - 1)]}\"\n",
    "    answer = complete(f\"{conv_start} {interaction}\", conv_end, 10, 60)\n",
    "    interaction += answer\n",
    "    time.sleep(1)\n",
    "    print(f\"NRLNT: {answer}\")\n",
    "    \n",
    "    interaction += f\"\\n{you[random.randint(0, len(you) - 1)]}\"\n",
    "    \n",
    "    interaction = interaction[500:]"
   ]
  },
  {
   "cell_type": "code",
   "execution_count": null,
   "metadata": {},
   "outputs": [],
   "source": []
  }
 ],
 "metadata": {
  "kernelspec": {
   "display_name": "MAIN_ENV",
   "language": "python",
   "name": "python3"
  },
  "language_info": {
   "codemirror_mode": {
    "name": "ipython",
    "version": 3
   },
   "file_extension": ".py",
   "mimetype": "text/x-python",
   "name": "python",
   "nbconvert_exporter": "python",
   "pygments_lexer": "ipython3",
   "version": "3.9.16"
  },
  "orig_nbformat": 4
 },
 "nbformat": 4,
 "nbformat_minor": 2
}
