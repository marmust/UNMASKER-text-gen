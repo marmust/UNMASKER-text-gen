{
 "cells": [
  {
   "cell_type": "code",
   "execution_count": 1,
   "metadata": {},
   "outputs": [],
   "source": [
    "# by 8AAFFF on yt"
   ]
  },
  {
   "cell_type": "code",
   "execution_count": 3,
   "metadata": {},
   "outputs": [],
   "source": [
    "# importing essentian modules\n",
    "from transformers import pipeline\n",
    "from tqdm import tqdm\n",
    "import random"
   ]
  },
  {
   "cell_type": "code",
   "execution_count": 5,
   "metadata": {},
   "outputs": [],
   "source": [
    "# unmakser that is going to be used\n",
    "# you can change it by:\n",
    "# 1: go to huggingface\n",
    "# 2: pick new model\n",
    "# 3: go down and copy a similar line to this one, just with the new model settings\n",
    "# 4: change the \"mask\" token below to whatever your mdoel uses\n",
    "unmasker = pipeline('fill-mask', model='xlm-roberta-large')\n",
    "mask_token = \"<mask>\"\n",
    "\n",
    "# file from which the random words will be generated\n",
    "path_to_words_file = r\"<<< UR PATH HERE >>>\""
   ]
  },
  {
   "cell_type": "code",
   "execution_count": 8,
   "metadata": {},
   "outputs": [],
   "source": [
    "def generate_words(length):\n",
    "    text = \"\"\n",
    "    \n",
    "    with open(path_to_words_file) as file:\n",
    "        words = file.read().split(\"\\n\")\n",
    "    \n",
    "    for x in range(length):\n",
    "        text += \" \" + words[random.randint(0, len(words) - 1)]\n",
    "    \n",
    "    return text[1:]"
   ]
  },
  {
   "cell_type": "code",
   "execution_count": 21,
   "metadata": {},
   "outputs": [],
   "source": [
    "def complete(topic, length, edurations, memory_length, give_up_range):\n",
    "    words = generate_words(length).split(\" \")\n",
    "    memory = []\n",
    "    \n",
    "    for x in range(edurations):\n",
    "        for x in range(give_up_range):\n",
    "            rnd_word_idx = random.randint(0, len(words) - 1)\n",
    "            \n",
    "            if rnd_word_idx not in memory[-memory_length:]:\n",
    "                break\n",
    "        \n",
    "        memory.append(rnd_word_idx)\n",
    "        \n",
    "        words[rnd_word_idx] = f\" {mask_token} \"\n",
    "        masked = \" \".join(words)\n",
    "        unmasked = unmasker(topic + \" \" + masked)[0][\"sequence\"][len(topic):]\n",
    "        words = unmasked.split(\" \")\n",
    "        \n",
    "        print(f\"{topic}   >   {' '.join(words)}\")\n",
    "        \n",
    "    \n",
    "    return topic + \" \" + \" \".join(words)"
   ]
  },
  {
   "cell_type": "code",
   "execution_count": 22,
   "metadata": {},
   "outputs": [
    {
     "name": "stdout",
     "output_type": "stream",
     "text": [
      "my name is   >    inspire climate practice prominent calculate accept pregnant stay read more\n",
      "my name is   >    a climate practice prominent calculate accept pregnant stay read more\n",
      "my name is   >    a climate practice prominent calculate acceptance stay read more\n",
      "my name is   >    a a climate practice prominent calculate acceptance stay read more\n",
      "my name is   >    a new climate practice prominent calculate acceptance stay read more\n",
      "my name is   >    a new climate practice prominent calculate acceptance rate read more\n",
      "my name is   >    a new climate practice prominent calculate acceptance rate learn more\n",
      "my name is   >    a new climate practice prominent calculate acceptance rate learn more\n",
      "my name is   >    a new climate practice prominent calculate acceptance rate learn more\n",
      "my name is   >    a new climate practice prominent calculate acceptance rate learn more\n",
      "my name is   >    a new climate practice to calculate acceptance rate learn more\n",
      "my name is   >    a new climate system to calculate acceptance rate learn more\n",
      "my name is   >    a new climate system to calculate acceptance rate read more\n",
      "my name is   >    a new climate system to calculate the rate read more\n",
      "my name is   >    create a new climate system to calculate the rate read more\n",
      "my name is   >    create a new climate system and calculate the rate read more\n",
      "my name is   >    create a new climate system and calculate the rate read more\n",
      "my name is   >    create a new climate model and calculate the rate read more\n",
      "my name is   >    create a global climate model and calculate the rate read more\n",
      "my name is   >    create a global climate model and calculate the rate read more\n",
      "my name is   >    to create a global climate model and calculate the rate read more\n",
      "my name is   >    to create a global climate model and calculate the rate read more\n",
      "my name is   >    to create a global climate model and calculate the rate read more\n",
      "my name is   >    to create a global climate model and increase the rate read more\n",
      "my name is   >    to create a global climate model and increase the rate read more\n",
      "my name is   >    to create a global climate model and increase growth rate read more\n",
      "my name is   >    to create a global climate model and increase growth rate read more\n",
      "my name is   >    to create a global climate model and increase growth rate read more\n",
      "my name is   >    to create a global business model and increase growth rate read more\n",
      "my name is   >    to create a global business model and increase growth rate read more\n",
      "my name is   >    to create a global business model and increase growth rate read more\n",
      "my name is   >    to create a global business model and increase growth rate read more\n",
      "my name is   >    to create a global business model and a growth rate read more\n",
      "my name is   >    to create a global business model and a growth rate read more\n",
      "my name is   >    to create a global business model and a growth... read more\n",
      "my name is   >    to create a global business model and a growth... read more\n",
      "my name is   >    to create a global business model and a growth... read more\n",
      "my name is   >    to create a global business model and a growth... read more\n",
      "my name is   >    to create a global business model and a growth... read more\n",
      "my name is   >    to create a global business model and a growth... read more\n",
      "my name is   >    Michael to create a global business model and a growth... read more\n",
      "my name is   >    Michael to create a global business model and a growth... read more\n",
      "my name is   >    Michael to create a global business model and a... read more\n",
      "my name is   >    Michael to create a global business model for a... read more\n",
      "my name is   >    Michael to create a global business model for a... read more\n",
      "my name is   >    Michael to create a global business model for a... read more\n",
      "my name is   >    Michael to create a global business model for... read more\n",
      "my name is   >    Michael to create a global business model for... read more\n",
      "my name is   >    Michael Michael to create a global business model for... read more\n",
      "my name is   >    Michael Michael to create a global business model for... read more\n"
     ]
    },
    {
     "data": {
      "text/plain": [
       "'my name is  Michael Michael to create a global business model for... read more'"
      ]
     },
     "execution_count": 22,
     "metadata": {},
     "output_type": "execute_result"
    }
   ],
   "source": [
    "complete(\"my name is\", 10, 50, 4, 10)"
   ]
  },
  {
   "cell_type": "code",
   "execution_count": null,
   "metadata": {},
   "outputs": [],
   "source": []
  }
 ],
 "metadata": {
  "kernelspec": {
   "display_name": "MAIN_ENV",
   "language": "python",
   "name": "python3"
  },
  "language_info": {
   "codemirror_mode": {
    "name": "ipython",
    "version": 3
   },
   "file_extension": ".py",
   "mimetype": "text/x-python",
   "name": "python",
   "nbconvert_exporter": "python",
   "pygments_lexer": "ipython3",
   "version": "3.9.16"
  },
  "orig_nbformat": 4
 },
 "nbformat": 4,
 "nbformat_minor": 2
}
